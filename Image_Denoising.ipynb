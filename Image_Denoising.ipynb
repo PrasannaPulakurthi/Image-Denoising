{
  "nbformat": 4,
  "nbformat_minor": 0,
  "metadata": {
    "colab": {
      "name": "Image_Denoising.ipynb",
      "provenance": [],
      "collapsed_sections": [],
      "toc_visible": true
    },
    "kernelspec": {
      "name": "python3",
      "display_name": "Python 3"
    },
    "language_info": {
      "name": "python"
    },
    "accelerator": "GPU"
  },
  "cells": [
    {
      "cell_type": "markdown",
      "metadata": {
        "id": "-tVTicx3hJvA"
      },
      "source": [
        "# **Download the git repository.**"
      ]
    },
    {
      "cell_type": "code",
      "metadata": {
        "id": "TL-p7ygb3O5P"
      },
      "source": [
        "!git clone https://github.com/PrasannaPulakurthi/Image-Denoising"
      ],
      "execution_count": null,
      "outputs": []
    },
    {
      "cell_type": "code",
      "metadata": {
        "id": "zWwD1ITi8Izw"
      },
      "source": [
        "cd Image-Denoising/"
      ],
      "execution_count": null,
      "outputs": []
    },
    {
      "cell_type": "code",
      "metadata": {
        "id": "u7dNBHGQ8OhP"
      },
      "source": [
        "!ls"
      ],
      "execution_count": null,
      "outputs": []
    },
    {
      "cell_type": "markdown",
      "metadata": {
        "id": "EdPCD9Zbcksi"
      },
      "source": [
        "# **Display the Test Image**"
      ]
    },
    {
      "cell_type": "code",
      "metadata": {
        "id": "q6yKFRi_b_Pn"
      },
      "source": [
        "from IPython.display import Image, display\n",
        "Img_name = 'monarch'\n",
        "display(Image('Test_Images/'+Img_name+'.png'))"
      ],
      "execution_count": null,
      "outputs": []
    },
    {
      "cell_type": "markdown",
      "metadata": {
        "id": "8bgb0oQMeXMS"
      },
      "source": [
        "# **Passing the Image through IRN Denoising Network**"
      ]
    },
    {
      "cell_type": "code",
      "metadata": {
        "id": "8IQION8P8Ppd"
      },
      "source": [
        "import os.path as osp\n",
        "import logging\n",
        "import time\n",
        "import argparse\n",
        "from collections import OrderedDict\n",
        "\n",
        "import numpy as np\n",
        "import options.options as option\n",
        "import utils.util as util\n",
        "from data.util import bgr2ycbcr\n",
        "from data import create_dataset, create_dataloader\n",
        "from models import create_model\n",
        "\n",
        "\n",
        "# Entering Options\n",
        "opt = OrderedDict([('name', 'IRN_x2'), ('suffix', None), ('model', 'IRN'), ('distortion', 'sr'), ('scale', 2), ('crop_border', None), ('gpu_ids', [0]), ('datasets', OrderedDict([('test_1', OrderedDict([('name', 'Test_Dataset'), ('mode', 'LQGT'), ('dataroot_GT', 'Test_Images/'), ('dataroot_LQ', None), ('phase', 'test'), ('scale', 2), ('data_type', 'img')]))])), ('network_G', OrderedDict([('which_model_G', OrderedDict([('subnet_type', 'DBNet')])), ('in_nc', 3), ('out_nc', 3), ('block_num', [8]), ('scale', 2), ('init', 'xavier')])), ('path', OrderedDict([('pretrain_model_G', 'Trained_Network/IRN_x2.pth'), ('root', '/content/Image-Denoising'), ('results_root', 'Results'), ('log', 'Results')])), ('is_train', False)])\n",
        "opt = option.dict_to_nonedict(opt)\n",
        "\n",
        "util.mkdirs(\n",
        "    (path for key, path in opt['path'].items()\n",
        "     if not key == 'experiments_root' and 'pretrain_model' not in key and 'resume' not in key))\n",
        "util.setup_logger('base', opt['path']['log'], 'test_' + opt['name'], level=logging.INFO,\n",
        "                  screen=True, tofile=True)\n",
        "logger = logging.getLogger('base')\n",
        "logger.info(option.dict2str(opt))\n",
        "\n",
        "#### Create test dataset and dataloader\n",
        "test_loaders = []\n",
        "for phase, dataset_opt in sorted(opt['datasets'].items()):\n",
        "    test_set = create_dataset(dataset_opt)\n",
        "    test_loader = create_dataloader(test_set, dataset_opt)\n",
        "    logger.info('Number of test images in [{:s}]: {:d}'.format(dataset_opt['name'], len(test_set)))\n",
        "    test_loaders.append(test_loader)\n",
        "\n",
        "model = create_model(opt)\n",
        "\n",
        "\n",
        "for test_loader in test_loaders:\n",
        "    test_set_name = test_loader.dataset.opt['name']\n",
        "    logger.info('\\nTesting [{:s}]...'.format(test_set_name))\n",
        "    test_start_time = time.time()\n",
        "    dataset_dir = osp.join(opt['path']['results_root'], test_set_name)\n",
        "    util.mkdir(dataset_dir)\n",
        "\n",
        "    test_results = OrderedDict()\n",
        "    test_results['psnr'] = []\n",
        "    test_results['ssim'] = []\n",
        "    test_results['psnr_y'] = []\n",
        "    test_results['ssim_y'] = []\n",
        "\n",
        "    test_results['psnr_lr'] = []\n",
        "    test_results['ssim_lr'] = []\n",
        "    test_results['psnr_y_lr'] = []\n",
        "    test_results['ssim_y_lr'] = []\n",
        "\n",
        "    for data in test_loader:\n",
        "        model.feed_data(data)\n",
        "        img_path = data['GT_path'][0]\n",
        "        img_name = osp.splitext(osp.basename(img_path))[0]\n",
        "\n",
        "        model.test()\n",
        "        visuals = model.get_current_visuals()\n",
        "\n",
        "        sr_img = util.tensor2img(visuals['SR'])  # uint8\n",
        "        srgt_img = util.tensor2img(visuals['GT'])  # uint8\n",
        "        lr_img = util.tensor2img(visuals['LR'])  # uint8\n",
        "        lrgt_img = util.tensor2img(visuals['LR_ref'])  # uint8\n",
        "        \n",
        "        #print(np.histogram(lr_img1,bins=np.arange(256)))\n",
        "        \n",
        "        \n",
        "        \n",
        "        # save images\n",
        "        suffix = opt['suffix']\n",
        "        \n",
        "        if suffix:\n",
        "            save_img_path = osp.join(dataset_dir, img_name + suffix + '.png')\n",
        "        else:\n",
        "            save_img_path = osp.join(dataset_dir, img_name + '.png')\n",
        "        util.save_img(sr_img, save_img_path)\n",
        "\n",
        "        if suffix:\n",
        "            save_img_path = osp.join(dataset_dir, img_name + suffix + '_GT.png')\n",
        "        else:\n",
        "            save_img_path = osp.join(dataset_dir, img_name + '_GT.png')\n",
        "        util.save_img(srgt_img, save_img_path)\n",
        "        \n",
        "        if suffix:\n",
        "            save_img_path = osp.join(dataset_dir, img_name + suffix + '_LR.png')\n",
        "        else:\n",
        "            save_img_path = osp.join(dataset_dir, img_name + '_LR.png')\n",
        "        util.save_img(lr_img, save_img_path)\n",
        "        \n",
        "        #LR ref Image\n",
        "\n",
        "        if suffix:\n",
        "            save_img_path = osp.join(dataset_dir, img_name + suffix + '_LR_ref.png')\n",
        "        else:\n",
        "            save_img_path = osp.join(dataset_dir, img_name + '_LR_ref.png')\n",
        "        util.save_img(lrgt_img, save_img_path)\n",
        "        \n",
        "        \n",
        "        # calculate PSNR and SSIM\n",
        "        gt_img = util.tensor2img(visuals['GT'])\n",
        "\n",
        "        gt_img = gt_img / 255.\n",
        "        sr_img = sr_img / 255.\n",
        "\n",
        "        lr_img = lr_img / 255.\n",
        "        lrgt_img = lrgt_img / 255.\n",
        "\n",
        "        crop_border = opt['crop_border'] if opt['crop_border'] else opt['scale']\n",
        "        if crop_border == 0:\n",
        "            cropped_sr_img = sr_img\n",
        "            cropped_gt_img = gt_img\n",
        "        else:\n",
        "            cropped_sr_img = sr_img[crop_border:-crop_border, crop_border:-crop_border, :]\n",
        "            cropped_gt_img = gt_img[crop_border:-crop_border, crop_border:-crop_border, :]\n",
        "\n",
        "        psnr = util.calculate_psnr(cropped_sr_img * 255, cropped_gt_img * 255)\n",
        "        ssim = util.calculate_ssim(cropped_sr_img * 255, cropped_gt_img * 255)\n",
        "        test_results['psnr'].append(psnr)\n",
        "        test_results['ssim'].append(ssim)\n",
        "\n",
        "        # PSNR and SSIM for LR\n",
        "        psnr_lr = util.calculate_psnr(lr_img * 255, lrgt_img * 255)\n",
        "        ssim_lr = util.calculate_ssim(lr_img * 255, lrgt_img * 255)\n",
        "        test_results['psnr_lr'].append(psnr_lr)\n",
        "        test_results['ssim_lr'].append(ssim_lr)\n",
        "\n",
        "        if gt_img.shape[2] == 3:  # RGB image\n",
        "            sr_img_y = bgr2ycbcr(sr_img, only_y=True)\n",
        "            gt_img_y = bgr2ycbcr(gt_img, only_y=True)\n",
        "            if crop_border == 0:\n",
        "                cropped_sr_img_y = sr_img_y\n",
        "                cropped_gt_img_y = gt_img_y\n",
        "            else:\n",
        "                cropped_sr_img_y = sr_img_y[crop_border:-crop_border, crop_border:-crop_border]\n",
        "                cropped_gt_img_y = gt_img_y[crop_border:-crop_border, crop_border:-crop_border]\n",
        "            psnr_y = util.calculate_psnr(cropped_sr_img_y * 255, cropped_gt_img_y * 255)\n",
        "            ssim_y = util.calculate_ssim(cropped_sr_img_y * 255, cropped_gt_img_y * 255)\n",
        "            test_results['psnr_y'].append(psnr_y)\n",
        "            test_results['ssim_y'].append(ssim_y)\n",
        "\n",
        "            lr_img_y = bgr2ycbcr(lr_img, only_y=True)\n",
        "            lrgt_img_y = bgr2ycbcr(lrgt_img, only_y=True)\n",
        "            psnr_y_lr = util.calculate_psnr(lr_img_y * 255, lrgt_img_y * 255)\n",
        "            ssim_y_lr = util.calculate_ssim(lr_img_y * 255, lrgt_img_y * 255)\n",
        "            test_results['psnr_y_lr'].append(psnr_y_lr)\n",
        "            test_results['ssim_y_lr'].append(ssim_y_lr)\n",
        "\n",
        "            logger.info(\n",
        "                    '{:20s} - PSNR: {:.6f} dB; SSIM: {:.6f}; PSNR_Y: {:.6f} dB; SSIM_Y: {:.6f}. LR PSNR: {:.6f} dB; SSIM: {:.6f}; PSNR_Y: {:.6f} dB; SSIM_Y: {:.6f}.'.\n",
        "                format(img_name, psnr, ssim, psnr_y, ssim_y, psnr_lr, ssim_lr, psnr_y_lr, ssim_y_lr))\n",
        "        else:\n",
        "            logger.info('{:20s} - PSNR: {:.6f} dB; SSIM: {:.6f}. LR PSNR: {:.6f} dB; SSIM: {:.6f}.'.format(img_name, psnr, ssim, psnr_lr, ssim_lr))\n",
        "\n",
        "    # Average PSNR/SSIM results\n",
        "    ave_psnr = sum(test_results['psnr']) / len(test_results['psnr'])\n",
        "    ave_ssim = sum(test_results['ssim']) / len(test_results['ssim'])\n",
        "\n",
        "    ave_psnr_lr = sum(test_results['psnr_lr']) / len(test_results['psnr_lr'])\n",
        "    ave_ssim_lr = sum(test_results['ssim_lr']) / len(test_results['ssim_lr'])\n",
        "\n",
        "    logger.info(\n",
        "            '----Average PSNR/SSIM results for {}----\\n\\tpsnr: {:.6f} db; ssim: {:.6f}. LR psnr: {:.6f} db; ssim: {:.6f}.\\n'.format(\n",
        "            test_set_name, ave_psnr, ave_ssim, ave_psnr_lr, ave_ssim_lr))\n",
        "    if test_results['psnr_y'] and test_results['ssim_y']:\n",
        "        ave_psnr_y = sum(test_results['psnr_y']) / len(test_results['psnr_y'])\n",
        "        ave_ssim_y = sum(test_results['ssim_y']) / len(test_results['ssim_y'])\n",
        "\n",
        "        ave_psnr_y_lr = sum(test_results['psnr_y_lr']) / len(test_results['psnr_y_lr'])\n",
        "        ave_ssim_y_lr = sum(test_results['ssim_y_lr']) / len(test_results['ssim_y_lr'])\n",
        "        logger.info(\n",
        "            '----Y channel, average PSNR/SSIM----\\n\\tPSNR_Y: {:.6f} dB; SSIM_Y: {:.6f}. LR PSNR_Y: {:.6f} dB; SSIM_Y: {:.6f}.\\n'.\n",
        "            format(ave_psnr_y, ave_ssim_y, ave_psnr_y_lr, ave_ssim_y_lr))\n"
      ],
      "execution_count": null,
      "outputs": []
    },
    {
      "cell_type": "markdown",
      "metadata": {
        "id": "Pmszv7Dsd5wp"
      },
      "source": [
        "# **Results**"
      ]
    },
    {
      "cell_type": "code",
      "metadata": {
        "id": "_r0i8eYPFTl9"
      },
      "source": [
        "from IPython.display import Image, display\n",
        "print(\"Original Image\")\n",
        "display(Image('Results/Test_Dataset/'+Img_name+'_GT.png'))\n",
        "print(\"Denoised Image\")\n",
        "display(Image('Results/Test_Dataset/'+Img_name+'.png'))"
      ],
      "execution_count": null,
      "outputs": []
    }
  ]
}